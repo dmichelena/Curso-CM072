{
 "cells": [
  {
   "cell_type": "markdown",
   "metadata": {},
   "source": [
    "## Modelos lineales\n",
    "\n",
    "Los modelos lineales son una clase de modelos que se utilizan ampliamente en la práctica y se han estudiado ampliamente en las últimas décadas, con raíces que se remontan a más de cien años. Los modelos lineales hacen una predicción usando una función lineal de las características de entrada."
   ]
  },
  {
   "cell_type": "markdown",
   "metadata": {},
   "source": [
    "### Modelos lineales para regresión\n",
    "\n",
    "Para regresión, la fórmula general de predicción para un modelo lineal, tiene la siguiente forma:\n",
    "\n",
    "$$\n",
    "\\hat{y}= w[0]*x[0] + w[1]*x[1] + \\dots +  w[p] *x[p] + b\n",
    "$$\n",
    "\n",
    "Aquí `x[0]` y `x[p]` denota las características de un único punto de datos, `w` y `b` son los parámetros del modelo que se aprenden, $\\hat{y}$ es la predicción que el modelo hace.\n",
    "\n",
    "Para más características, `w` contiene las pendientes a lo largo de cada eje de característica. Alternativamente, se puede pensar en la respuesta predicha como una suma ponderada de las características de entrada, con ponderaciones (que pueden ser negativas) dadas por las entradas de `w`.\n"
   ]
  },
  {
   "cell_type": "code",
   "execution_count": 1,
   "metadata": {},
   "outputs": [],
   "source": [
    "%matplotlib inline\n",
    "import numpy as np\n",
    "def hacer_wave(n_muestras=100):\n",
    "    rnd = np.random.RandomState(42)\n",
    "    x = rnd.uniform(-3, 3, size=n_muestras)\n",
    "    y_no_ruido = (np.sin(4 * x) + x)\n",
    "    y = (y_no_ruido + rnd.normal(size=len(x))) / 2\n",
    "    return x.reshape(-1, 1), y"
   ]
  },
  {
   "cell_type": "code",
   "execution_count": 2,
   "metadata": {},
   "outputs": [],
   "source": [
    "import matplotlib.pyplot as plt\n",
    "from sklearn.linear_model import LinearRegression\n",
    "from sklearn.model_selection import train_test_split\n",
    "from matplotlib.colors import ListedColormap\n",
    "cm2 = ListedColormap(['#0000aa', '#ff2020'])\n",
    "\n",
    "def dibuja_regresion_lineal_wave():\n",
    "    X, y = hacer_wave(n_muestras=60)\n",
    "    X_entrenamiento, X_prueba, y_entrenamiento, y_prueba = train_test_split(X, y, random_state=42)\n",
    "\n",
    "    linea = np.linspace(-3, 3, 100).reshape(-1, 1)\n",
    "\n",
    "    lr_regresion = LinearRegression().fit(X_entrenamiento, y_entrenamiento)\n",
    "    print(\"w[0]: %f  b: %f\" % (lr_regresion.coef_[0], lr_regresion.intercept_))\n",
    "\n",
    "    plt.figure(figsize=(8, 8))\n",
    "    plt.plot(linea, lr_regresion.predict(linea))\n",
    "    plt.plot(X, y, 'o', c=cm2(0))\n",
    "    ax = plt.gca()\n",
    "    ax.spines['left'].set_position('center')\n",
    "    ax.spines['right'].set_color('none')\n",
    "    ax.spines['bottom'].set_position('center')\n",
    "    ax.spines['top'].set_color('none')\n",
    "    ax.set_ylim(-3, 3)\n",
    "    ax.legend([\"modelo\", \"datos de entrenamiento\"], loc=\"best\")\n",
    "    ax.grid(True)\n",
    "    ax.set_aspect('equal')"
   ]
  },
  {
   "cell_type": "code",
   "execution_count": 3,
   "metadata": {},
   "outputs": [
    {
     "name": "stdout",
     "output_type": "stream",
     "text": [
      "w[0]: 0.393906  b: -0.031804\n"
     ]
    },
    {
     "data": {
      "image/png": "[encoded data removed]",
      "text/plain": [
       "<matplotlib.figure.Figure at 0x7fc65c6c9c18>"
      ]
     },
     "metadata": {},
     "output_type": "display_data"
    }
   ],
   "source": [
    "dibuja_regresion_lineal_wave()"
   ]
  },
  {
   "cell_type": "markdown",
   "metadata": {},
   "source": [
    "Los modelos lineales de regresión se pueden caracterizar como modelos de regresión para los cuales la predicción es una línea para una característica única, un plano cuando se utilizan dos característica o un hiperplano en dimensiones superiores (es decir, cuando se usan más características)."
   ]
  },
  {
   "cell_type": "markdown",
   "metadata": {},
   "source": [
    "Si se compara las predicciones hechas por la línea recta con las hechas por `KNeighborsRegressor`, usar una línea recta para hacer predicciones parece muy restrictivo. Parece que se pierden todos los detalles de los datos.\n",
    "\n",
    "En cierto sentido, esto es cierto. Es una suposición fuerte (y algo poco realista) de que nuestro objetivo `y` es una combinación lineal de las características. Pero mirar datos unidimensionales da una perspectiva un tanto sesgada. Para conjuntos de datos con muchas características, los modelos lineales pueden ser muy potentes.\n",
    "\n",
    "En particular, si tiene más características que puntos de datos de entrenamiento, cualquier objetivo `y` puede ser perfectamente modelado (en el conjunto de entrenamiento) como una función lineal.\n",
    "\n",
    "Hay muchos modelos lineales diferentes para la regresión. La diferencia entre estos modelos radica en cómo los parámetros del modelo `w` y `b` se aprenden de los datos de entrenamiento y cómo se puede controlar la complejidad del modelo."
   ]
  },
  {
   "cell_type": "markdown",
   "metadata": {},
   "source": [
    "### Regresión lineal\n",
    "\n",
    "La regresión lineal, o mínimos cuadrados ordinarios (OLS), es el método lineal más simple y  clásico para la regresión. La regresión lineal encuentra los parámetros `w` y `b` que minimizan el error cuadrático medio entre las predicciones y los verdaderos objetivos de regresión `y` en el conjunto de entrenamiento.\n",
    "\n",
    "El error cuadrático medio es la suma de las diferencias al cuadrado entre las predicciones y los valores verdaderos. La regresión lineal no tiene parámetros, lo cual es un beneficio, pero tampoco se tiene forma de controlar la complejidad del modelo."
   ]
  },
  {
   "cell_type": "code",
   "execution_count": 4,
   "metadata": {},
   "outputs": [],
   "source": [
    "from sklearn.linear_model import LinearRegression\n",
    "X, y = hacer_wave(n_muestras=60)\n",
    "X_entrenamiento, X_prueba, y_entrenamiento, y_prueba = train_test_split(X, y, random_state=42)\n",
    "lr_regresion = LinearRegression().fit(X_entrenamiento, y_entrenamiento)"
   ]
  },
  {
   "cell_type": "markdown",
   "metadata": {},
   "source": [
    "Los parámetros de \"pendiente\" `(w)`, también denominados pesos o coeficientes, que se almacenan en el atributo `coef_`, mientras que el desplazamiento o intersección `(b)` se almacena en el atributo `intercept_:`."
   ]
  },
  {
   "cell_type": "code",
   "execution_count": 5,
   "metadata": {},
   "outputs": [
    {
     "name": "stdout",
     "output_type": "stream",
     "text": [
      "Coeficiente de regresion lineal: [0.39390555]\n",
      "Intercepto de regresion lineal : -0.031804343026759746\n"
     ]
    }
   ],
   "source": [
    "print(\"Coeficiente de regresion lineal: {}\".format(lr_regresion.coef_))\n",
    "print(\"Intercepto de regresion lineal : {}\".format(lr_regresion.intercept_))"
   ]
  },
  {
   "cell_type": "markdown",
   "metadata": {},
   "source": [
    "El atributo `intercept_` es siempre un único número flotante, mientras que el atributo `coef_` es una matriz NumPy con una entrada por característica de entrada. Como solo tenemos una función de entrada única en el conjunto de datos `wave`, `lr_regresion.coef_` solo tiene una sola entrada."
   ]
  },
  {
   "cell_type": "code",
   "execution_count": 6,
   "metadata": {},
   "outputs": [
    {
     "name": "stdout",
     "output_type": "stream",
     "text": [
      "Puntuacion del conjunto de entrenamiento: 0.67\n",
      "Puntuacion del conjunto de prueba: 0.66\n"
     ]
    }
   ],
   "source": [
    "print(\"Puntuacion del conjunto de entrenamiento: {:.2f}\".format(lr_regresion.score(X_entrenamiento, y_entrenamiento)))\n",
    "print(\"Puntuacion del conjunto de prueba: {:.2f}\".format(lr_regresion.score(X_prueba, y_prueba)))"
   ]
  },
  {
   "cell_type": "markdown",
   "metadata": {},
   "source": [
    "Un $R^2$ de alrededor de 0,66 no es muy bueno, pero podemos ver que los puntajes en el entrenamiento y los conjuntos de prueba son muy similares. Esto significa que probablemente tengamos subajuste y no un sobreajuste.\n",
    "\n",
    "Para este conjunto de datos unidimensional, existe poco peligro de sobreajuste, ya que el modelo es muy simple (o restringido). Sin embargo, con conjuntos de datos de mayor dimensión (es decir, conjuntos de datos con una gran cantidad de características), los modelos lineales se vuelven más potentes y existe una mayor posibilidad de sobreajuste.\n",
    "\n",
    "Veamos cómo funciona LinearRegression en un conjunto de datos más complejo, como el conjunto de datos de `Boston Housing`. Recuerda que este conjunto de datos tiene 506 muestras y 105 característica derivadas.\n",
    "\n",
    "Primero, cargamos el conjunto de datos y lo dividimos en un conjunto de entrenamiento y prueba. Luego construimos el modelo de regresión lineal como antes:"
   ]
  },
  {
   "cell_type": "code",
   "execution_count": 7,
   "metadata": {},
   "outputs": [],
   "source": [
    "from sklearn.datasets import load_boston\n",
    "from sklearn.preprocessing import MinMaxScaler, PolynomialFeatures\n",
    "def cargar_boston_extendido():\n",
    "    boston = load_boston()\n",
    "    X = boston.data\n",
    "\n",
    "    X = MinMaxScaler().fit_transform(boston.data)\n",
    "    X = PolynomialFeatures(degree=2, include_bias=False).fit_transform(X)\n",
    "    return X, boston.target\n",
    "\n",
    "X, y = cargar_boston_extendido()\n",
    "X_entrenamiento, X_prueba, y_entrenamiento, y_prueba = train_test_split(X, y, random_state=0)\n",
    "lr_regresion = LinearRegression().fit(X_entrenamiento, y_entrenamiento)"
   ]
  },
  {
   "cell_type": "markdown",
   "metadata": {},
   "source": [
    "Al comparar el conjunto de entrenamiento y los puntajes del conjunto de prueba, encontramos que predecimos con mucha precisión en el conjunto de entrenamiento, pero el $R^2$ en el conjunto de prueba no es muy bueno:\n"
   ]
  },
  {
   "cell_type": "code",
   "execution_count": 8,
   "metadata": {},
   "outputs": [
    {
     "name": "stdout",
     "output_type": "stream",
     "text": [
      "Puntuacion del conjunto de entrenamiento: 0.95\n",
      "Puntuacion del conjunto de prueba: 0.61\n"
     ]
    }
   ],
   "source": [
    "print(\"Puntuacion del conjunto de entrenamiento: {:.2f}\".format(lr_regresion.score(X_entrenamiento, y_entrenamiento)))\n",
    "print(\"Puntuacion del conjunto de prueba: {:.2f}\".format(lr_regresion.score(X_prueba, y_prueba)))"
   ]
  },
  {
   "cell_type": "markdown",
   "metadata": {},
   "source": [
    "Esta discrepancia entre el rendimiento en el conjunto de entrenamiento y el conjunto de pruebas es una clara señal de sobreajuste y, por lo tanto, debemos tratar de encontrar un modelo que nos permita controlar la complejidad. Una de las alternativas más comúnmente utilizadas para la regresión lineal estándar es la regresión ridge."
   ]
  },
  {
   "cell_type": "markdown",
   "metadata": {},
   "source": [
    "### Regresión ridge\n",
    "\n",
    "La regresión de Ridge también es un modelo lineal para la regresión, por lo que la fórmula que usa para hacer predicciones es la misma que se usa para los mínimos cuadrados ordinarios. Sin embargo, en la regresión ridge, los coeficientes (w) se eligen no solo para que puedan predecir bien los datos de entrenamiento, sino también para ajustarse a una restricción adicional.\n",
    "\n",
    "También queremos que la magnitud de los coeficientes sea lo más pequeña posible; en otras palabras, todas las entradas de `w` deberían estar cerca de cero. Intuitivamente, esto significa que cada característica debería tener tan poco efecto en el resultado como sea posible (lo que se traduce en tener una pendiente pequeña), mientras se sigue prediciendo bien. \n",
    "\n",
    "Esta restricción es un ejemplo de lo que se llama regularización.\n",
    "\n",
    "Regularización significa restringir explícitamente un modelo para evitar el sobreajuste. El tipo particular utilizado por la regresión ridge se conoce como regularización L2."
   ]
  },
  {
   "cell_type": "code",
   "execution_count": 9,
   "metadata": {},
   "outputs": [
    {
     "name": "stdout",
     "output_type": "stream",
     "text": [
      "Puntuacion del conjunto de entrenamiento: 0.89\n",
      "Puntuacion del conjunto de pruebas: 0.75\n"
     ]
    }
   ],
   "source": [
    "from sklearn.linear_model import Ridge\n",
    "ridge_regresion = Ridge().fit(X_entrenamiento, y_entrenamiento)\n",
    "print(\"Puntuacion del conjunto de entrenamiento: {:.2f}\".format(ridge_regresion.score(X_entrenamiento, y_entrenamiento)))\n",
    "print(\"Puntuacion del conjunto de pruebas: {:.2f}\".format(ridge_regresion.score(X_prueba, y_prueba)))"
   ]
  },
  {
   "cell_type": "markdown",
   "metadata": {},
   "source": [
    "Como se  puede ver, el puntaje del conjunto de entrenamiento de Ridge es menor que el de LinearRegression, mientras que el puntaje del conjunto de prueba es más alto. Esto es consistente con nuestras expectativas. \n",
    "\n",
    "Con la regresión lineal, estábamos sobreajustando nuestros datos. Ridge es un modelo más restringido, por lo que es menos probable que realicemos sobreajuste. Un modelo menos complejo significa peor rendimiento en el conjunto de entrenamiento, pero con una mejor generalización. \n",
    "\n",
    "Como solo estamos interesados en el rendimiento general, debemos elegir el modelo Ridge sobre el modelo LinearRegression.\n",
    "\n",
    "El modelo Ridge hace una compensación entre la simplicidad del modelo (coeficientes cercanos a cero) y su rendimiento en el conjunto de entrenamiento. La cantidad de importancia que el modelo otorga a la simplicidad frente al rendimiento del conjunto de entrenamiento puede ser especificada por el usuario, utilizando el parámetro alfa. En el ejemplo anterior, usamos el parámetro predeterminado alpha = 1.0. Sin embargo, no hay ninguna razón para que esto nos brinde la mejor compensación.\n",
    "\n",
    "La configuración óptima de alpha depende del conjunto de datos particular que estamos usando. El aumento de alpha fuerza a los coeficiente a  moverse más hacia cero, lo que disminuye el rendimiento del conjunto de entrenamiento pero puede ayudar a la generalización."
   ]
  },
  {
   "cell_type": "code",
   "execution_count": 10,
   "metadata": {},
   "outputs": [
    {
     "name": "stdout",
     "output_type": "stream",
     "text": [
      "Puntuacion del conjunto de entrenamiento: 0.79\n",
      "Puntuacion del conjunto de pruebas: 0.64\n"
     ]
    }
   ],
   "source": [
    "ridge10 = Ridge(alpha=10).fit(X_entrenamiento, y_entrenamiento)\n",
    "print(\"Puntuacion del conjunto de entrenamiento: {:.2f}\".format(ridge10.score(X_entrenamiento, y_entrenamiento)))\n",
    "print(\"Puntuacion del conjunto de pruebas: {:.2f}\".format(ridge10.score(X_prueba, y_prueba)))"
   ]
  },
  {
   "cell_type": "markdown",
   "metadata": {},
   "source": [
    "La disminución de `alpha` permite que los coeficientes sean menos restringidos. Para valores muy pequeños de `alpha`, los coeficientes apenas se restringen en absoluto  y terminamos con un modelo que se asemeja a `LinearRegression`."
   ]
  },
  {
   "cell_type": "code",
   "execution_count": 11,
   "metadata": {},
   "outputs": [
    {
     "name": "stdout",
     "output_type": "stream",
     "text": [
      "Puntuacion del conjunto de entrenamiento: 0.93\n",
      "Puntuacion del conjunto de pruebas: 0.77\n"
     ]
    }
   ],
   "source": [
    "ridge01 = Ridge(alpha=0.1).fit(X_entrenamiento, y_entrenamiento)\n",
    "print(\"Puntuacion del conjunto de entrenamiento: {:.2f}\".format(ridge01.score(X_entrenamiento, y_entrenamiento)))\n",
    "print(\"Puntuacion del conjunto de pruebas: {:.2f}\".format(ridge01.score(X_prueba, y_prueba)))"
   ]
  },
  {
   "cell_type": "markdown",
   "metadata": {},
   "source": [
    "También podemos obtener una visión más cualitativa de cómo el parámetro `alpha` cambia el modelo al inspeccionar el atributo `coef_` de los modelos con diferentes valores `alpha`. Un `alpha` superior significa un modelo más restringido, por lo que esperamos que las entradas de `coef_` tengan una magnitud menor para un valor alto de `alpha` que para un valor bajo de `alpha`."
   ]
  },
  {
   "cell_type": "code",
   "execution_count": 12,
   "metadata": {},
   "outputs": [
    {
     "data": {
      "text/plain": [
       "<matplotlib.legend.Legend at 0x7fc629e58c50>"
      ]
     },
     "execution_count": 12,
     "metadata": {},
     "output_type": "execute_result"
    },
    {
     "data": {
      "image/png": "[encoded data removed]",
      "text/plain": [
       "<matplotlib.figure.Figure at 0x7fc629e4cda0>"
      ]
     },
     "metadata": {},
     "output_type": "display_data"
    }
   ],
   "source": [
    "plt.plot(ridge_regresion.coef_, 's', label=\"Ridge alfa=1\")\n",
    "plt.plot(ridge10.coef_, '^', label=\"Ridge alfa=10\")\n",
    "plt.plot(ridge01.coef_, 'v', label=\"Ridge alfa=0.1\")\n",
    "plt.plot(lr_regresion.coef_, 'o', label=\"Regresion lineal\")\n",
    "plt.xlabel(\"Indice del coeficiente\")\n",
    "plt.ylabel(\"Magnitud del coeficiente\")\n",
    "plt.hlines(0, 0, len(lr_regresion.coef_))\n",
    "plt.ylim(-25, 25)\n",
    "plt.legend()"
   ]
  },
  {
   "cell_type": "markdown",
   "metadata": {},
   "source": [
    "Aquí, el eje x enumera las entradas de `coef_`: \n",
    "\n",
    "`x = 0` muestra el coeficiente asociado con la primera característica, `x = 1` el coeficiente asociado con la segunda característica, y así sucesivamente hasta `x = 100`. \n",
    "\n",
    "El eje y muestra los valores numéricos de los valores correspondientes de los coeficientes. El punto principal aquí es que para `alpha = 10`, los coeficientes son en su mayoría entre -3 y 3. Los coeficientes para el modelo de Ridge con `alpha = 1` son algo mayores.\n",
    "\n",
    "Los puntos correspondientes a `alpha = 0.1` tienen todavía una magnitud mayor y muchos de los puntos correspondientes a la regresión lineal sin regularización (que serían `alpha = 0`) son tan grandes que están fuera del gráfico."
   ]
  },
  {
   "cell_type": "markdown",
   "metadata": {},
   "source": [
    "Otra forma de entender la influencia de la regularización es fijar un valor de `alpha`, pero variar la cantidad de datos de entrenamiento disponibles. Submuestreamos el conjunto de datos de `Boston Housing` y evaluamos LinearRegression y Ridge (`alpha = 1`) en subconjuntos de tamaño creciente (los gráficos que muestran el rendimiento del modelo en función del tamaño del conjunto de datos se denominan curvas de aprendizaje)."
   ]
  },
  {
   "cell_type": "code",
   "execution_count": 13,
   "metadata": {},
   "outputs": [],
   "source": [
    "from sklearn.model_selection import learning_curve,  KFold\n",
    "def dibuja_curva_aprendizaje(est, X, y):\n",
    "    tam_conjunto_entrenamiento, puntuacion_entrenamiento, puntuacion_prueba = learning_curve(\n",
    "        est, X, y, train_sizes=np.linspace(.1, 1, 20), cv=KFold(20, shuffle=True, random_state=1))\n",
    "    nombre_estimador = est.__class__.__name__\n",
    "    linea = plt.plot(tam_conjunto_entrenamiento, puntuacion_entrenamiento.mean(axis=1), '--',\n",
    "                    label=\"entrenamiento \" + nombre_estimador)\n",
    "    plt.plot(tam_conjunto_entrenamiento, puntuacion_prueba.mean(axis=1), '-',\n",
    "             label=\"prueba \" + nombre_estimador, c=linea[0].get_color())\n",
    "    plt.xlabel('Tam del conjunto de entrenamiento')\n",
    "    plt.ylabel('Puntuacion (R^2)')\n",
    "    plt.ylim(0, 1.1)"
   ]
  },
  {
   "cell_type": "code",
   "execution_count": 14,
   "metadata": {},
   "outputs": [],
   "source": [
    "def dibuja_ridge_n_muestras():\n",
    "    X, y = cargar_boston_extendido()\n",
    "\n",
    "    dibuja_curva_aprendizaje(Ridge(alpha=1), X, y)\n",
    "    dibuja_curva_aprendizaje(LinearRegression(), X, y)\n",
    "    plt.legend(loc=(0, 1.05), ncol=2, fontsize=11)"
   ]
  },
  {
   "cell_type": "code",
   "execution_count": 15,
   "metadata": {},
   "outputs": [
    {
     "data": {
      "image/png": "[encoded data removed]",
      "text/plain": [
       "<matplotlib.figure.Figure at 0x7fc629dcef98>"
      ]
     },
     "metadata": {},
     "output_type": "display_data"
    }
   ],
   "source": [
    "dibuja_ridge_n_muestras()"
   ]
  },
  {
   "cell_type": "markdown",
   "metadata": {},
   "source": [
    "Como era de esperar, el puntaje del entrenamiento es más alto que el puntaje de prueba para todos los tamaños del conjuntos de datos, tanto para ridge como para la regresión lineal. Debido a que el ridge está regularizado, el puntaje de entrenamiento ridge es más bajo que el puntaje de entrenamiento para la regresión lineal en general.\n",
    "\n",
    "Sin embargo, el puntaje de la prueba para ridge es mejor, particularmente para subconjuntos pequeños de los datos. Para menos de 400 puntos de datos, la regresión lineal no puede aprender nada. A medida que más y más datos están disponibles para el modelo, ambos modelos mejoran, y la regresión lineal alcanza a ridge en el final ."
   ]
  },
  {
   "cell_type": "markdown",
   "metadata": {},
   "source": [
    "La lección aquí es que con suficientes datos de entrenamiento, la regularización se vuelve menos importante y dado los datos suficientes, ridge y la regresión lineal tendrán el mismo rendimiento (el hecho de que esto ocurra aquí cuando se usa el conjunto de datos completo es casual).\n",
    "\n",
    "Otro aspecto interesante de la figura anterior es la disminución en el rendimiento del entrenamiento para la regresión lineal. Si se agregan más datos, es más difícil que un modelo se sobreajuste o memorice los datos."
   ]
  },
  {
   "cell_type": "markdown",
   "metadata": {},
   "source": [
    "### Lasso\n",
    "\n",
    "Una alternativa a Ridge para regularizar la regresión lineal es Lasso. Al igual que con la regresión ridge, el uso del lasso también restringe los coeficientes a estar cerca de cero, pero de una manera ligeramente diferente, llamada regularización L1.\n",
    "\n",
    "La consecuencia de la regularización L1 es que al usar lasso, algunos coeficientes son exactamente cero. Esto significa que algunas características son completamente ignoradas por el modelo. Esto se puede ver como una forma de selección automática de características. Tener algunos coeficientes exactamente iguales a cero hace que un modelo sea más fácil de interpretar y puede revelar las características más importantes del  modelo."
   ]
  },
  {
   "cell_type": "code",
   "execution_count": 16,
   "metadata": {},
   "outputs": [
    {
     "name": "stdout",
     "output_type": "stream",
     "text": [
      "Puntuacion conjunto de entrenamiento: 0.29\n",
      "Puntuacion conjunto de datos: 0.21\n",
      "Numero de caracteristicas usadas: 4\n"
     ]
    }
   ],
   "source": [
    "from sklearn.linear_model import Lasso\n",
    "lasso_regresion = Lasso().fit(X_entrenamiento, y_entrenamiento)\n",
    "print(\"Puntuacion conjunto de entrenamiento: {:.2f}\".format(lasso_regresion.score(X_entrenamiento, y_entrenamiento)))\n",
    "print(\"Puntuacion conjunto de datos: {:.2f}\".format(lasso_regresion.score(X_prueba, y_prueba)))\n",
    "print(\"Numero de caracteristicas usadas: {}\".format(np.sum(lasso_regresion.coef_ != 0)))"
   ]
  },
  {
   "cell_type": "markdown",
   "metadata": {},
   "source": [
    "Como se  puede ver, Lasso lo hace bastante mal, tanto en el entrenamiento como en el conjunto de pruebas. Esto indica que no tenemos el equipamiento adecuado  y encontramos que usó solo 4 de las 105 características.\n",
    "\n",
    "De forma similar a Ridge, Lasso también tiene un parámetro de regularización, `alpha`, que controla como  los coeficientes van hacia cero. En el ejemplo anterior, usamos el valor por defecto de `alpha = 1.0`.  Para reducir el subajuste, intentemos disminuir `alpha`.\n",
    "\n",
    "Cuando hacemos esto, también necesitamos aumentar la configuración predeterminada de `max_iter` (la cantidad máxima de iteraciones para ejecutar):"
   ]
  },
  {
   "cell_type": "code",
   "execution_count": 17,
   "metadata": {},
   "outputs": [
    {
     "name": "stdout",
     "output_type": "stream",
     "text": [
      "Puntuacion conjunto de entrenamiento: 0.90\n",
      "Puntuacion conjunto de datos: 0.77\n",
      "Numero de caracteristicas usadas: 33\n"
     ]
    }
   ],
   "source": [
    "# Incrementamos el valor por defecto de max_iter\n",
    "# de lo contrario, el modelo nos advertiría que debemos aumentar max_iter\n",
    "\n",
    "lasso001 = Lasso(alpha=0.01, max_iter=100000).fit(X_entrenamiento, y_entrenamiento)\n",
    "print(\"Puntuacion conjunto de entrenamiento: {:.2f}\".format(lasso001.score(X_entrenamiento, y_entrenamiento)))\n",
    "print(\"Puntuacion conjunto de datos: {:.2f}\".format(lasso001.score(X_prueba, y_prueba)))\n",
    "print(\"Numero de caracteristicas usadas: {}\".format(np.sum(lasso001.coef_ != 0)))"
   ]
  },
  {
   "cell_type": "markdown",
   "metadata": {},
   "source": [
    "Si establecemos `alpha` con un valor demasiado bajo, sin embargo, eliminamos nuevamente el efecto de regularización y terminamos sobreajustados, con un resultado similar a LinearRegression:"
   ]
  },
  {
   "cell_type": "code",
   "execution_count": 18,
   "metadata": {},
   "outputs": [
    {
     "name": "stdout",
     "output_type": "stream",
     "text": [
      "Puntuacion conjunto de entrenamiento: 0.95\n",
      "Puntuacion conjunto de datos: 0.64\n",
      "Numero de caracteristicas usadas: 94\n"
     ]
    }
   ],
   "source": [
    "lasso00001 = Lasso(alpha=0.0001, max_iter=100000).fit(X_entrenamiento, y_entrenamiento)\n",
    "print(\"Puntuacion conjunto de entrenamiento: {:.2f}\".format(lasso00001.score(X_entrenamiento, y_entrenamiento)))\n",
    "print(\"Puntuacion conjunto de datos: {:.2f}\".format(lasso00001.score(X_prueba, y_prueba)))\n",
    "print(\"Numero de caracteristicas usadas: {}\".format(np.sum(lasso00001.coef_ != 0)))"
   ]
  },
  {
   "cell_type": "code",
   "execution_count": 19,
   "metadata": {},
   "outputs": [
    {
     "data": {
      "text/plain": [
       "Text(0,0.5,'Magnitud del coeficiente')"
      ]
     },
     "execution_count": 19,
     "metadata": {},
     "output_type": "execute_result"
    },
    {
     "data": {
      "image/png": "[encoded data removed]",
      "text/plain": [
       "<matplotlib.figure.Figure at 0x7fc629cf42b0>"
      ]
     },
     "metadata": {},
     "output_type": "display_data"
    }
   ],
   "source": [
    "plt.plot(lasso_regresion.coef_, 's', label=\"Lasso alfa=1\")\n",
    "plt.plot(lasso001.coef_, '^', label=\"Lasso alfa=0.01\")\n",
    "plt.plot(lasso00001.coef_, 'v', label=\"Lasso alfa=0.0001\")\n",
    "plt.plot(ridge01.coef_, 'o', label=\"Ridge alfa=0.1\")\n",
    "plt.legend(ncol=2, loc=(0, 1.05))\n",
    "plt.ylim(-25, 25)\n",
    "plt.xlabel(\"Indice del coeficiente\")\n",
    "plt.ylabel(\"Magnitud del coeficiente\")"
   ]
  },
  {
   "cell_type": "markdown",
   "metadata": {},
   "source": [
    "Para `alpha = 1`, no solo vemos que la mayoría de los coeficientes son cero (lo que ya sabíamos), sino que los coeficientes restantes también son pequeños en magnitud. Al disminuir `alpha` a 0.01, obtenemos la solución que se muestra como los puntos naranjas, lo que hace que la mayoría de las características sean exactamente cero.\n",
    "\n",
    "Usando `alpha = 0.00001`, obtenemos un modelo que no está regularizado, con la mayoría de los coeficientes distintos de cero y de gran magnitud. A modo de comparación, la mejor solución Ridge se muestra en rojo. El modelo Ridge con `alpha = 0.1` tiene un rendimiento predictivo similar al del modelo Lasso con `alpha= 0.01`, pero al usar Ridge, todos los coeficientes son distintos de cero."
   ]
  },
  {
   "cell_type": "markdown",
   "metadata": {},
   "source": [
    "En la práctica, la regresión Ridge suele ser la primera opción entre estos dos modelos. Sin embargo, si tiene una gran cantidad de características y espera que solo unas pocas sean importantes, Lasso podría ser una mejor opción.\n",
    "\n",
    "De manera similar, si desea tener un modelo que sea fácil de interpretar, Lasso proporcionará un modelo que es más fácil de entender, ya que seleccionará solo un subconjunto de las características de entrada. scikit-learn también proporciona la clase `ElasticNet`, que combina las penalizaciones de Lasso y Ridge. \n",
    "\n",
    "En la práctica, esta combinación funciona mejor, aunque al precio a pagar es  tener que ajustar dos parámetros: uno para la regularización L1 y otro para la regularización L2."
   ]
  },
  {
   "cell_type": "code",
   "execution_count": null,
   "metadata": {},
   "outputs": [],
   "source": []
  }
 ],
 "metadata": {
  "kernelspec": {
   "display_name": "Python 3",
   "language": "python",
   "name": "python3"
  },
  "language_info": {
   "codemirror_mode": {
    "name": "ipython",
    "version": 3
   },
   "file_extension": ".py",
   "mimetype": "text/x-python",
   "name": "python",
   "nbconvert_exporter": "python",
   "pygments_lexer": "ipython3",
   "version": "3.6.5"
  }
 },
 "nbformat": 4,
 "nbformat_minor": 2
}
