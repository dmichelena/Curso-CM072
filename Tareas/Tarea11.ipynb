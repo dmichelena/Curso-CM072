{
 "cells": [
  {
   "cell_type": "markdown",
   "metadata": {},
   "source": [
    "## Tarea 11 del curso CM-072\n",
    "\n",
    "* Nombre y apellidos:\n",
    "* Fecha de presentación: 8 de diciembre\n",
    "* Cuaderno ajustado del trabajo de Guillaume Lemaltre, Andreas Mueller."
   ]
  },
  {
   "cell_type": "markdown",
   "metadata": {},
   "source": [
    "Muchos casos de aprendizaje no supervisado, como la reducción de la dimensionalidad, manifold learning y la extracción de características, encuentran una nueva representación de los datos de entrada sin ninguna entrada adicional. (En contraste con el aprendizaje supervisado, los algoritmos no supervisados no requieren ni consideran variables objetivo como en los ejemplos de clasificación y regresión).\n",
    "\n",
    "Un ejemplo muy básico es el reescalado de nuestros datos, que es un requisito para muchos algoritmos de machine learning, ya que no son invariantes en escala: el reescalado cae en la categoría de preprocesamiento de datos y apenas puede llamarse `learning`. \n",
    "\n",
    "Existen muchas técnicas diferentes de reescalado, y en el siguiente ejemplo, veremos un método en particular que comúnmente se llama \"estandarización\". Aquí, reescalamos los datos para que cada característica se centre en cero (`media = 0`) con varianza unitaria.\n",
    "\n",
    "Por ejemplo, si tenemos un conjunto de datos 1D con los valores `[1, 2, 3, 4, 5]`, los valores estandarizados son:\n",
    "\n",
    "```\n",
    " 1 -> -1.41\n",
    " 2 -> -0.71\n",
    " 3 -> 0.0\n",
    " 4 -> 0.71\n",
    " 5 -> 1.41\n",
    "```\n",
    "\n",
    "calculados por la ecuación $x_{\\text{estandarizado}} = \\frac{x - \\mu_{x}}{\\sigma_x}$ donde $\\mu$ es la media muestral y $\\sigma$ la desviación estándar."
   ]
  },
  {
   "cell_type": "code",
   "execution_count": 1,
   "metadata": {},
   "outputs": [
    {
     "data": {
      "text/plain": [
       "array([-1.41421356, -0.70710678,  0.        ,  0.70710678,  1.41421356])"
      ]
     },
     "execution_count": 1,
     "metadata": {},
     "output_type": "execute_result"
    }
   ],
   "source": [
    "%matplotlib inline\n",
    "import matplotlib.pyplot as plt\n",
    "import numpy as np\n",
    "\n",
    "ary = np.array([1, 2, 3, 4, 5])\n",
    "ary_estandarizado = (ary - ary.mean()) / ary.std()\n",
    "ary_estandarizado"
   ]
  },
  {
   "cell_type": "markdown",
   "metadata": {},
   "source": [
    "Aunque la estandarización es el procedimiento de preprocesamiento más básico, scikit-learn implementa una clase `StandardScaler` para este cálculo.\n",
    "\n",
    "La aplicación de dicho preprocesamiento tiene una interfaz muy similar a los algoritmos de aprendizaje supervisados. Para obtener más práctica con la interfaz `Transformer` de scikit-learn, comencemos con utilizar el conjunto de datos `iris` y  reescalarlo:"
   ]
  },
  {
   "cell_type": "code",
   "execution_count": 2,
   "metadata": {},
   "outputs": [
    {
     "name": "stdout",
     "output_type": "stream",
     "text": [
      "(112, 4)\n"
     ]
    }
   ],
   "source": [
    "from sklearn.datasets import load_iris\n",
    "from sklearn.model_selection import train_test_split\n",
    "\n",
    "iris = load_iris()\n",
    "X_entrenamiento, X_prueba, y_entrenamiento, y_prueba = train_test_split(iris.data, iris.target, random_state=0)\n",
    "print(X_entrenamiento.shape)"
   ]
  },
  {
   "cell_type": "markdown",
   "metadata": {},
   "source": [
    "El conjunto de datos del iris no está \"centrado\", es decir, tiene una media distinta de cero y una desviación estándar que es diferente para cada componente:"
   ]
  },
  {
   "cell_type": "code",
   "execution_count": 3,
   "metadata": {},
   "outputs": [
    {
     "name": "stdout",
     "output_type": "stream",
     "text": [
      "media : [5.88660714 3.05178571 3.79642857 1.22321429] \n",
      "desviacion estandar : [0.86741565 0.43424445 1.79264014 0.77793019] \n"
     ]
    }
   ],
   "source": [
    "print(\"media : %s \" % X_entrenamiento.mean(axis=0))\n",
    "print(\"desviacion estandar : %s \" % X_entrenamiento.std(axis=0))"
   ]
  },
  {
   "cell_type": "code",
   "execution_count": 4,
   "metadata": {},
   "outputs": [],
   "source": [
    "from sklearn.preprocessing import StandardScaler\n",
    "escaler = StandardScaler()"
   ]
  },
  {
   "cell_type": "markdown",
   "metadata": {},
   "source": [
    "Al igual que con los algoritmos de clasificación y regresión, llamamos `fit` para aprender el modelo a partir de los datos. Como este es un modelo sin supervisión, solo pasamos `X`, no `y`. Esto simplemente estima la media y la desviación estándar."
   ]
  },
  {
   "cell_type": "code",
   "execution_count": 5,
   "metadata": {},
   "outputs": [
    {
     "data": {
      "text/plain": [
       "StandardScaler(copy=True, with_mean=True, with_std=True)"
      ]
     },
     "execution_count": 5,
     "metadata": {},
     "output_type": "execute_result"
    }
   ],
   "source": [
    "escaler.fit(X_entrenamiento)"
   ]
  },
  {
   "cell_type": "markdown",
   "metadata": {},
   "source": [
    "Ahora reescalamos los datos aplicando el método `transform` no `predict` en esta situación."
   ]
  },
  {
   "cell_type": "code",
   "execution_count": 6,
   "metadata": {},
   "outputs": [],
   "source": [
    "X_entrenamiento_escalado = escaler.transform(X_entrenamiento)"
   ]
  },
  {
   "cell_type": "markdown",
   "metadata": {},
   "source": [
    "`X_train_scaled` tiene el mismo número de muestras y características, pero la media se restó y todas las características se escalaron para tener una desviación estándar unitaria:"
   ]
  },
  {
   "cell_type": "code",
   "execution_count": 7,
   "metadata": {},
   "outputs": [
    {
     "name": "stdout",
     "output_type": "stream",
     "text": [
      "(112, 4)\n"
     ]
    }
   ],
   "source": [
    "print(X_entrenamiento_escalado.shape)"
   ]
  },
  {
   "cell_type": "code",
   "execution_count": 8,
   "metadata": {},
   "outputs": [
    {
     "name": "stdout",
     "output_type": "stream",
     "text": [
      "media : [ 1.21331516e-15 -4.41115398e-17  7.13714802e-17 -3.66770106e-16] \n",
      "desviacion estandar : [1. 1. 1. 1.] \n"
     ]
    }
   ],
   "source": [
    "print(\"media : %s \" % X_entrenamiento_escalado.mean(axis=0))\n",
    "print(\"desviacion estandar : %s \" % X_entrenamiento_escalado.std(axis=0))\n"
   ]
  },
  {
   "cell_type": "markdown",
   "metadata": {},
   "source": [
    "Para resumir: a través del método `fit`, el estimador se ajusta a los datos que proporcionamos. En este paso, el estimador estima los parámetros a partir de los datos (aquí: media y desviación estándar). Luego, si usamos `transform` en los datos, estos parámetros se utilizan para transformar un conjunto de datos. (Ten en cuenta que el método `transform` no actualiza estos parámetros).\n",
    "\n",
    "Es importante tener en cuenta que la misma transformación se aplica al entrenamiento y al conjunto de pruebas. Eso tiene la consecuencia de que la media de los datos de prueba no es cero después de escalar:"
   ]
  },
  {
   "cell_type": "code",
   "execution_count": 9,
   "metadata": {},
   "outputs": [
    {
     "name": "stdout",
     "output_type": "stream",
     "text": [
      "media de datos de prueba: [-0.19692712  0.05042896 -0.08461917 -0.12117658]\n"
     ]
    }
   ],
   "source": [
    "X_prueba_escalado = escaler.transform(X_prueba)\n",
    "print(\"media de datos de prueba: %s\" % X_prueba_escalado.mean(axis=0))"
   ]
  },
  {
   "cell_type": "markdown",
   "metadata": {},
   "source": [
    "Es importante que los datos de entrenamiento y prueba se transformen exactamente de la misma manera, para que los siguientes pasos de procesamiento tengan sentido en los datos.\n",
    "\n",
    "Hay varias formas comunes de escalar los datos. La técnica común es el `StandardScaler` que acabamos de presentar, pero redimensionando los datos a un mínimo fijo con un valor máximo con `MinMaxScaler` (generalmente entre `0` y `1`), o usando estadísticas más robustas como la mediana y el cuantil, en lugar de la media y la desviación estándar (con `RobustScaler`), también son útiles."
   ]
  },
  {
   "cell_type": "markdown",
   "metadata": {},
   "source": [
    "### PCA\n",
    "\n",
    "Una transformación no supervisada que es algo más interesante es PCA. Es una técnica para reducir la dimensionalidad de los datos, creando una proyección lineal. Es decir, encontramos nuevas características para representar los datos que son una combinación lineal de los datos antiguos (es decir, lo rotamos). Por lo tanto, podemos pensar en PCA como una proyección de nuestros datos en un nuevo espacio de características.\n",
    "\n",
    "La forma en que PCA encuentra estas nuevas direcciones es buscando las direcciones de varianza máxima. Por lo general, solo se conservan algunos componentes que explican la mayor parte de la varianza en los datos. Aquí, la premisa es reducir el tamaño (dimensionalidad) de un conjunto de datos mientras se captura la mayor parte de su información. Hay muchas razones por las que la reducción de la dimensionalidad puede ser útil: puede reducir el costo computacional al ejecutar algoritmos de aprendizaje, disminuir el espacio de almacenamiento y puede ayudar con la llamada `maldición de la dimensionalidad`.\n"
   ]
  },
  {
   "cell_type": "code",
   "execution_count": 10,
   "metadata": {},
   "outputs": [
    {
     "data": {
      "image/png": "[encoded data removed]",
      "text/plain": [
       "<Figure size 432x288 with 1 Axes>"
      ]
     },
     "metadata": {},
     "output_type": "display_data"
    }
   ],
   "source": [
    "rnd = np.random.RandomState(5)\n",
    "X_ = rnd.normal(size=(300, 2))\n",
    "X_blob = np.dot(X_, rnd.normal(size=(2, 2))) + rnd.normal(size=2)\n",
    "y = X_[:, 0] > 0\n",
    "plt.scatter(X_blob[:, 0], X_blob[:, 1], c=y, linewidths=0, s=30)\n",
    "plt.xlabel(\"Caracteristica 1\")\n",
    "plt.ylabel(\"Caracteristica 2\");"
   ]
  },
  {
   "cell_type": "code",
   "execution_count": 11,
   "metadata": {},
   "outputs": [],
   "source": [
    "from sklearn.decomposition import PCA\n",
    "pca = PCA()"
   ]
  },
  {
   "cell_type": "markdown",
   "metadata": {},
   "source": [
    "Luego ajustamos el modelo PCA con nuestros datos. Como PCA es un algoritmo no supervisado, no hay salida `y`."
   ]
  },
  {
   "cell_type": "code",
   "execution_count": 12,
   "metadata": {},
   "outputs": [
    {
     "data": {
      "text/plain": [
       "PCA(copy=True, iterated_power='auto', n_components=None, random_state=None,\n",
       "  svd_solver='auto', tol=0.0, whiten=False)"
      ]
     },
     "execution_count": 12,
     "metadata": {},
     "output_type": "execute_result"
    }
   ],
   "source": [
    "pca.fit(X_blob)"
   ]
  },
  {
   "cell_type": "markdown",
   "metadata": {},
   "source": [
    "Luego podemos transformar los datos, proyectados en los componentes principales:"
   ]
  },
  {
   "cell_type": "code",
   "execution_count": 13,
   "metadata": {},
   "outputs": [
    {
     "data": {
      "image/png": "[encoded data removed]",
      "text/plain": [
       "<Figure size 432x288 with 1 Axes>"
      ]
     },
     "metadata": {},
     "output_type": "display_data"
    }
   ],
   "source": [
    "X_pca = pca.transform(X_blob)\n",
    "\n",
    "plt.scatter(X_pca[:, 0], X_pca[:, 1], c=y, linewidths=0, s=30)\n",
    "plt.xlabel(\"Primer componente principal\")\n",
    "plt.ylabel(\"Segundo componente principal\");"
   ]
  },
  {
   "cell_type": "code",
   "execution_count": 14,
   "metadata": {},
   "outputs": [],
   "source": [
    "pca = PCA(n_components=1).fit(X_blob)"
   ]
  },
  {
   "cell_type": "code",
   "execution_count": 15,
   "metadata": {},
   "outputs": [
    {
     "data": {
      "text/plain": [
       "(300, 2)"
      ]
     },
     "execution_count": 15,
     "metadata": {},
     "output_type": "execute_result"
    }
   ],
   "source": [
    "X_blob.shape\n"
   ]
  },
  {
   "cell_type": "code",
   "execution_count": 16,
   "metadata": {},
   "outputs": [
    {
     "data": {
      "text/plain": [
       "(300, 1)"
      ]
     },
     "execution_count": 16,
     "metadata": {},
     "output_type": "execute_result"
    }
   ],
   "source": [
    "pca.transform(X_blob).shape"
   ]
  },
  {
   "cell_type": "markdown",
   "metadata": {},
   "source": [
    "1. Visualice el conjunto de datos del iris con los dos primeros componentes principales y compare esta visualización con dos de las características originales.\n"
   ]
  },
  {
   "cell_type": "code",
   "execution_count": 17,
   "metadata": {},
   "outputs": [],
   "source": [
    "# Tu solucion"
   ]
  },
  {
   "cell_type": "code",
   "execution_count": null,
   "metadata": {},
   "outputs": [],
   "source": []
  }
 ],
 "metadata": {
  "kernelspec": {
   "display_name": "Python 3",
   "language": "python",
   "name": "python3"
  },
  "language_info": {
   "codemirror_mode": {
    "name": "ipython",
    "version": 3
   },
   "file_extension": ".py",
   "mimetype": "text/x-python",
   "name": "python",
   "nbconvert_exporter": "python",
   "pygments_lexer": "ipython3",
   "version": "3.6.5"
  }
 },
 "nbformat": 4,
 "nbformat_minor": 2
}
